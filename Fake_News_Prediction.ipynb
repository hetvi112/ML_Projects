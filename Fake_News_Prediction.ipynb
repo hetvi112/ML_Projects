{
  "nbformat": 4,
  "nbformat_minor": 0,
  "metadata": {
    "colab": {
      "provenance": []
    },
    "kernelspec": {
      "name": "python3",
      "display_name": "Python 3"
    },
    "language_info": {
      "name": "python"
    }
  },
  "cells": [
    {
      "cell_type": "code",
      "execution_count": null,
      "metadata": {
        "id": "IqRnhwkUqVGx"
      },
      "outputs": [],
      "source": []
    },
    {
      "cell_type": "markdown",
      "source": [
        "id: unique id for a news article\n",
        "\n",
        "title: the title of a news article\n",
        "\n",
        "author: author of the news article\n",
        "\n",
        "text: the text of the article; could be incomplete\n",
        "\n",
        "label: a label that marks the article as potentially unreliable\n",
        "\n",
        "1: fake\n",
        "\n",
        "0: real"
      ],
      "metadata": {
        "id": "ePzcyc9tq0fZ"
      }
    },
    {
      "cell_type": "code",
      "source": [
        "import numpy as np\n",
        "import pandas as pd\n",
        "import csv\n",
        "import re\n",
        "import nltk.corpus\n",
        "from nltk.corpus import stopwords\n",
        "from nltk.stem.porter import PorterStemmer\n",
        "from sklearn.feature_extraction.text import TfidfVectorizer\n",
        "from sklearn.model_selection import train_test_split\n",
        "from sklearn.linear_model import LogisticRegression\n",
        "from sklearn.metrics import accuracy_score"
      ],
      "metadata": {
        "id": "6oyr_OPtq4Na"
      },
      "execution_count": null,
      "outputs": []
    },
    {
      "cell_type": "code",
      "source": [
        "import nltk\n",
        "\n",
        "nltk.download('stopwords')"
      ],
      "metadata": {
        "colab": {
          "base_uri": "https://localhost:8080/"
        },
        "id": "PLBoMKvVsmnC",
        "outputId": "0a02be79-4b50-4fb0-b074-9bac3e84fc15"
      },
      "execution_count": null,
      "outputs": [
        {
          "output_type": "stream",
          "name": "stderr",
          "text": [
            "[nltk_data] Downloading package stopwords to /root/nltk_data...\n",
            "[nltk_data]   Unzipping corpora/stopwords.zip.\n"
          ]
        },
        {
          "output_type": "execute_result",
          "data": {
            "text/plain": [
              "True"
            ]
          },
          "metadata": {},
          "execution_count": 2
        }
      ]
    },
    {
      "cell_type": "code",
      "source": [
        "print(stopwords.words('english'))"
      ],
      "metadata": {
        "colab": {
          "base_uri": "https://localhost:8080/"
        },
        "id": "E_d2HpR1tFil",
        "outputId": "9f94bbc0-0faf-427a-cd3a-6d7cbf935a54"
      },
      "execution_count": null,
      "outputs": [
        {
          "output_type": "stream",
          "name": "stdout",
          "text": [
            "['i', 'me', 'my', 'myself', 'we', 'our', 'ours', 'ourselves', 'you', \"you're\", \"you've\", \"you'll\", \"you'd\", 'your', 'yours', 'yourself', 'yourselves', 'he', 'him', 'his', 'himself', 'she', \"she's\", 'her', 'hers', 'herself', 'it', \"it's\", 'its', 'itself', 'they', 'them', 'their', 'theirs', 'themselves', 'what', 'which', 'who', 'whom', 'this', 'that', \"that'll\", 'these', 'those', 'am', 'is', 'are', 'was', 'were', 'be', 'been', 'being', 'have', 'has', 'had', 'having', 'do', 'does', 'did', 'doing', 'a', 'an', 'the', 'and', 'but', 'if', 'or', 'because', 'as', 'until', 'while', 'of', 'at', 'by', 'for', 'with', 'about', 'against', 'between', 'into', 'through', 'during', 'before', 'after', 'above', 'below', 'to', 'from', 'up', 'down', 'in', 'out', 'on', 'off', 'over', 'under', 'again', 'further', 'then', 'once', 'here', 'there', 'when', 'where', 'why', 'how', 'all', 'any', 'both', 'each', 'few', 'more', 'most', 'other', 'some', 'such', 'no', 'nor', 'not', 'only', 'own', 'same', 'so', 'than', 'too', 'very', 's', 't', 'can', 'will', 'just', 'don', \"don't\", 'should', \"should've\", 'now', 'd', 'll', 'm', 'o', 're', 've', 'y', 'ain', 'aren', \"aren't\", 'couldn', \"couldn't\", 'didn', \"didn't\", 'doesn', \"doesn't\", 'hadn', \"hadn't\", 'hasn', \"hasn't\", 'haven', \"haven't\", 'isn', \"isn't\", 'ma', 'mightn', \"mightn't\", 'mustn', \"mustn't\", 'needn', \"needn't\", 'shan', \"shan't\", 'shouldn', \"shouldn't\", 'wasn', \"wasn't\", 'weren', \"weren't\", 'won', \"won't\", 'wouldn', \"wouldn't\"]\n"
          ]
        }
      ]
    },
    {
      "cell_type": "code",
      "source": [
        "import pandas as pd\n",
        "import csv # Import the csv module\n",
        "\n",
        "#loading the dataset to pandas dataframe\n",
        "news_dataset = pd.read_csv('/content/train.csv', quoting=csv.QUOTE_NONE, escapechar=\"\\\\\", on_bad_lines='skip')\n",
        "# Setting quoting to csv.QUOTE_NONE to treat all values as strings and escapechar to \"\\\\\" to handle unescaped backslashes.\n",
        "\n",
        "# Use csv.QUOTE_MINIMAL to access the constant\n",
        "# quoting=csv.QUOTE_MINIMAL: Ensures that only unescaped quotes within strings are considered as delimiters. This can help if there are unescaped quotes within the data.\n",
        "# on_bad_lines='skip': This argument replaces the deprecated 'error_bad_lines'. It instructs the parser to skip lines with errors. Alternative options like 'warn' and a custom error handling function can be used."
      ],
      "metadata": {
        "id": "mrvIFZGUnys5"
      },
      "execution_count": null,
      "outputs": []
    },
    {
      "cell_type": "code",
      "source": [
        "news_dataset.shape"
      ],
      "metadata": {
        "colab": {
          "base_uri": "https://localhost:8080/"
        },
        "id": "q36h5zOkn_iT",
        "outputId": "39f32663-7db5-4e6f-b8f3-a474bdbdd297"
      },
      "execution_count": null,
      "outputs": [
        {
          "output_type": "execute_result",
          "data": {
            "text/plain": [
              "(8261, 5)"
            ]
          },
          "metadata": {},
          "execution_count": 5
        }
      ]
    },
    {
      "cell_type": "code",
      "source": [
        "news_dataset.head()"
      ],
      "metadata": {
        "colab": {
          "base_uri": "https://localhost:8080/",
          "height": 1000
        },
        "id": "m049mynnoOap",
        "outputId": "252f7d0b-ca5d-4cc7-ca7d-289f7ca8f53e"
      },
      "execution_count": null,
      "outputs": [
        {
          "output_type": "execute_result",
          "data": {
            "text/plain": [
              "                                                                                                                                                  id  \\\n",
              "0                                              House Dem Aide: We Didn’t Even See Comey’s Lett...                                      Darrell Lucus   \n",
              "With apologies to Keith Olbermann               there is no doubt who the Worst Person in The ...   it looks like we also know who the second-wor...   \n",
              "As we now know                                  Comey notified the Republican chairmen and Dem...                                          Judiciary   \n",
              "— Jason Chaffetz (@jasoninthehouse) October 28  2016                                                                                             NaN   \n",
              "Of course                                       we now know that this was not the case . Comey...   and possibly an entire term’s worth of them. ...   \n",
              "\n",
              "                                                                                                                                               title  \\\n",
              "0                                              House Dem Aide: We Didn’t Even See Comey’s Lett...  \"House Dem Aide: We Didn’t Even See Comey’s Le...   \n",
              "With apologies to Keith Olbermann               there is no doubt who the Worst Person in The ...   the ranking Democrats on the relevant committ...   \n",
              "As we now know                                  Comey notified the Republican chairmen and Dem...   and Oversight committees that his agency was ...   \n",
              "— Jason Chaffetz (@jasoninthehouse) October 28  2016                                                                                             NaN   \n",
              "Of course                                       we now know that this was not the case . Comey...                                                NaN   \n",
              "\n",
              "                                                                                                                                              author  \\\n",
              "0                                              House Dem Aide: We Didn’t Even See Comey’s Lett...   2016 Subscribe Jason Chaffetz on the stump in...   \n",
              "With apologies to Keith Olbermann               there is no doubt who the Worst Person in The ...                                                NaN   \n",
              "As we now know                                  Comey notified the Republican chairmen and Dem...   Oversight Committee Chairman Jason Chaffetz s...   \n",
              "— Jason Chaffetz (@jasoninthehouse) October 28  2016                                                                                             NaN   \n",
              "Of course                                       we now know that this was not the case . Comey...                                                NaN   \n",
              "\n",
              "                                                                                                                                                text  \\\n",
              "0                                              House Dem Aide: We Didn’t Even See Comey’s Lett...               Utah ( image courtesy Michael Jolley   \n",
              "With apologies to Keith Olbermann               there is no doubt who the Worst Person in The ...                                                NaN   \n",
              "As we now know                                  Comey notified the Republican chairmen and Dem...   \"\"The FBI has learned of the existence of ema...   \n",
              "— Jason Chaffetz (@jasoninthehouse) October 28  2016                                                                                             NaN   \n",
              "Of course                                       we now know that this was not the case . Comey...                                                NaN   \n",
              "\n",
              "                                                                                                                                              label  \n",
              "0                                              House Dem Aide: We Didn’t Even See Comey’s Lett...   available under a Creative Commons-BY license)   \n",
              "With apologies to Keith Olbermann               there is no doubt who the Worst Person in The ...                                               NaN  \n",
              "As we now know                                  Comey notified the Republican chairmen and Dem...                                               NaN  \n",
              "— Jason Chaffetz (@jasoninthehouse) October 28  2016                                                                                            NaN  \n",
              "Of course                                       we now know that this was not the case . Comey...                                               NaN  "
            ],
            "text/html": [
              "\n",
              "  <div id=\"df-1c8dceb5-0efe-4cae-961a-f91962cab603\" class=\"colab-df-container\">\n",
              "    <div>\n",
              "<style scoped>\n",
              "    .dataframe tbody tr th:only-of-type {\n",
              "        vertical-align: middle;\n",
              "    }\n",
              "\n",
              "    .dataframe tbody tr th {\n",
              "        vertical-align: top;\n",
              "    }\n",
              "\n",
              "    .dataframe thead th {\n",
              "        text-align: right;\n",
              "    }\n",
              "</style>\n",
              "<table border=\"1\" class=\"dataframe\">\n",
              "  <thead>\n",
              "    <tr style=\"text-align: right;\">\n",
              "      <th></th>\n",
              "      <th></th>\n",
              "      <th>id</th>\n",
              "      <th>title</th>\n",
              "      <th>author</th>\n",
              "      <th>text</th>\n",
              "      <th>label</th>\n",
              "    </tr>\n",
              "  </thead>\n",
              "  <tbody>\n",
              "    <tr>\n",
              "      <th>0</th>\n",
              "      <th>House Dem Aide: We Didn’t Even See Comey’s Letter Until Jason Chaffetz Tweeted It</th>\n",
              "      <td>Darrell Lucus</td>\n",
              "      <td>\"House Dem Aide: We Didn’t Even See Comey’s Le...</td>\n",
              "      <td>2016 Subscribe Jason Chaffetz on the stump in...</td>\n",
              "      <td>Utah ( image courtesy Michael Jolley</td>\n",
              "      <td>available under a Creative Commons-BY license)</td>\n",
              "    </tr>\n",
              "    <tr>\n",
              "      <th>With apologies to Keith Olbermann</th>\n",
              "      <th>there is no doubt who the Worst Person in The World is this week–FBI Director James Comey. But according to a House Democratic aide</th>\n",
              "      <td>it looks like we also know who the second-wor...</td>\n",
              "      <td>the ranking Democrats on the relevant committ...</td>\n",
              "      <td>NaN</td>\n",
              "      <td>NaN</td>\n",
              "      <td>NaN</td>\n",
              "    </tr>\n",
              "    <tr>\n",
              "      <th>As we now know</th>\n",
              "      <th>Comey notified the Republican chairmen and Democratic ranking members of the House Intelligence</th>\n",
              "      <td>Judiciary</td>\n",
              "      <td>and Oversight committees that his agency was ...</td>\n",
              "      <td>Oversight Committee Chairman Jason Chaffetz s...</td>\n",
              "      <td>\"\"The FBI has learned of the existence of ema...</td>\n",
              "      <td>NaN</td>\n",
              "    </tr>\n",
              "    <tr>\n",
              "      <th>— Jason Chaffetz (@jasoninthehouse) October 28</th>\n",
              "      <th>2016</th>\n",
              "      <td>NaN</td>\n",
              "      <td>NaN</td>\n",
              "      <td>NaN</td>\n",
              "      <td>NaN</td>\n",
              "      <td>NaN</td>\n",
              "    </tr>\n",
              "    <tr>\n",
              "      <th>Of course</th>\n",
              "      <th>we now know that this was not the case . Comey was actually saying that it was reviewing the emails in light of “an unrelated case”–which we now know to be Anthony Weiner’s sexting with a teenager. But apparently such little things as facts didn’t matter to Chaffetz. The Utah Republican had already vowed to initiate a raft of investigations if Hillary wins–at least two years’ worth</th>\n",
              "      <td>and possibly an entire term’s worth of them. ...</td>\n",
              "      <td>NaN</td>\n",
              "      <td>NaN</td>\n",
              "      <td>NaN</td>\n",
              "      <td>NaN</td>\n",
              "    </tr>\n",
              "  </tbody>\n",
              "</table>\n",
              "</div>\n",
              "    <div class=\"colab-df-buttons\">\n",
              "\n",
              "  <div class=\"colab-df-container\">\n",
              "    <button class=\"colab-df-convert\" onclick=\"convertToInteractive('df-1c8dceb5-0efe-4cae-961a-f91962cab603')\"\n",
              "            title=\"Convert this dataframe to an interactive table.\"\n",
              "            style=\"display:none;\">\n",
              "\n",
              "  <svg xmlns=\"http://www.w3.org/2000/svg\" height=\"24px\" viewBox=\"0 -960 960 960\">\n",
              "    <path d=\"M120-120v-720h720v720H120Zm60-500h600v-160H180v160Zm220 220h160v-160H400v160Zm0 220h160v-160H400v160ZM180-400h160v-160H180v160Zm440 0h160v-160H620v160ZM180-180h160v-160H180v160Zm440 0h160v-160H620v160Z\"/>\n",
              "  </svg>\n",
              "    </button>\n",
              "\n",
              "  <style>\n",
              "    .colab-df-container {\n",
              "      display:flex;\n",
              "      gap: 12px;\n",
              "    }\n",
              "\n",
              "    .colab-df-convert {\n",
              "      background-color: #E8F0FE;\n",
              "      border: none;\n",
              "      border-radius: 50%;\n",
              "      cursor: pointer;\n",
              "      display: none;\n",
              "      fill: #1967D2;\n",
              "      height: 32px;\n",
              "      padding: 0 0 0 0;\n",
              "      width: 32px;\n",
              "    }\n",
              "\n",
              "    .colab-df-convert:hover {\n",
              "      background-color: #E2EBFA;\n",
              "      box-shadow: 0px 1px 2px rgba(60, 64, 67, 0.3), 0px 1px 3px 1px rgba(60, 64, 67, 0.15);\n",
              "      fill: #174EA6;\n",
              "    }\n",
              "\n",
              "    .colab-df-buttons div {\n",
              "      margin-bottom: 4px;\n",
              "    }\n",
              "\n",
              "    [theme=dark] .colab-df-convert {\n",
              "      background-color: #3B4455;\n",
              "      fill: #D2E3FC;\n",
              "    }\n",
              "\n",
              "    [theme=dark] .colab-df-convert:hover {\n",
              "      background-color: #434B5C;\n",
              "      box-shadow: 0px 1px 3px 1px rgba(0, 0, 0, 0.15);\n",
              "      filter: drop-shadow(0px 1px 2px rgba(0, 0, 0, 0.3));\n",
              "      fill: #FFFFFF;\n",
              "    }\n",
              "  </style>\n",
              "\n",
              "    <script>\n",
              "      const buttonEl =\n",
              "        document.querySelector('#df-1c8dceb5-0efe-4cae-961a-f91962cab603 button.colab-df-convert');\n",
              "      buttonEl.style.display =\n",
              "        google.colab.kernel.accessAllowed ? 'block' : 'none';\n",
              "\n",
              "      async function convertToInteractive(key) {\n",
              "        const element = document.querySelector('#df-1c8dceb5-0efe-4cae-961a-f91962cab603');\n",
              "        const dataTable =\n",
              "          await google.colab.kernel.invokeFunction('convertToInteractive',\n",
              "                                                    [key], {});\n",
              "        if (!dataTable) return;\n",
              "\n",
              "        const docLinkHtml = 'Like what you see? Visit the ' +\n",
              "          '<a target=\"_blank\" href=https://colab.research.google.com/notebooks/data_table.ipynb>data table notebook</a>'\n",
              "          + ' to learn more about interactive tables.';\n",
              "        element.innerHTML = '';\n",
              "        dataTable['output_type'] = 'display_data';\n",
              "        await google.colab.output.renderOutput(dataTable, element);\n",
              "        const docLink = document.createElement('div');\n",
              "        docLink.innerHTML = docLinkHtml;\n",
              "        element.appendChild(docLink);\n",
              "      }\n",
              "    </script>\n",
              "  </div>\n",
              "\n",
              "\n",
              "<div id=\"df-f517c9f8-ae0d-4ee3-8ad7-821eebec616d\">\n",
              "  <button class=\"colab-df-quickchart\" onclick=\"quickchart('df-f517c9f8-ae0d-4ee3-8ad7-821eebec616d')\"\n",
              "            title=\"Suggest charts\"\n",
              "            style=\"display:none;\">\n",
              "\n",
              "<svg xmlns=\"http://www.w3.org/2000/svg\" height=\"24px\"viewBox=\"0 0 24 24\"\n",
              "     width=\"24px\">\n",
              "    <g>\n",
              "        <path d=\"M19 3H5c-1.1 0-2 .9-2 2v14c0 1.1.9 2 2 2h14c1.1 0 2-.9 2-2V5c0-1.1-.9-2-2-2zM9 17H7v-7h2v7zm4 0h-2V7h2v10zm4 0h-2v-4h2v4z\"/>\n",
              "    </g>\n",
              "</svg>\n",
              "  </button>\n",
              "\n",
              "<style>\n",
              "  .colab-df-quickchart {\n",
              "      --bg-color: #E8F0FE;\n",
              "      --fill-color: #1967D2;\n",
              "      --hover-bg-color: #E2EBFA;\n",
              "      --hover-fill-color: #174EA6;\n",
              "      --disabled-fill-color: #AAA;\n",
              "      --disabled-bg-color: #DDD;\n",
              "  }\n",
              "\n",
              "  [theme=dark] .colab-df-quickchart {\n",
              "      --bg-color: #3B4455;\n",
              "      --fill-color: #D2E3FC;\n",
              "      --hover-bg-color: #434B5C;\n",
              "      --hover-fill-color: #FFFFFF;\n",
              "      --disabled-bg-color: #3B4455;\n",
              "      --disabled-fill-color: #666;\n",
              "  }\n",
              "\n",
              "  .colab-df-quickchart {\n",
              "    background-color: var(--bg-color);\n",
              "    border: none;\n",
              "    border-radius: 50%;\n",
              "    cursor: pointer;\n",
              "    display: none;\n",
              "    fill: var(--fill-color);\n",
              "    height: 32px;\n",
              "    padding: 0;\n",
              "    width: 32px;\n",
              "  }\n",
              "\n",
              "  .colab-df-quickchart:hover {\n",
              "    background-color: var(--hover-bg-color);\n",
              "    box-shadow: 0 1px 2px rgba(60, 64, 67, 0.3), 0 1px 3px 1px rgba(60, 64, 67, 0.15);\n",
              "    fill: var(--button-hover-fill-color);\n",
              "  }\n",
              "\n",
              "  .colab-df-quickchart-complete:disabled,\n",
              "  .colab-df-quickchart-complete:disabled:hover {\n",
              "    background-color: var(--disabled-bg-color);\n",
              "    fill: var(--disabled-fill-color);\n",
              "    box-shadow: none;\n",
              "  }\n",
              "\n",
              "  .colab-df-spinner {\n",
              "    border: 2px solid var(--fill-color);\n",
              "    border-color: transparent;\n",
              "    border-bottom-color: var(--fill-color);\n",
              "    animation:\n",
              "      spin 1s steps(1) infinite;\n",
              "  }\n",
              "\n",
              "  @keyframes spin {\n",
              "    0% {\n",
              "      border-color: transparent;\n",
              "      border-bottom-color: var(--fill-color);\n",
              "      border-left-color: var(--fill-color);\n",
              "    }\n",
              "    20% {\n",
              "      border-color: transparent;\n",
              "      border-left-color: var(--fill-color);\n",
              "      border-top-color: var(--fill-color);\n",
              "    }\n",
              "    30% {\n",
              "      border-color: transparent;\n",
              "      border-left-color: var(--fill-color);\n",
              "      border-top-color: var(--fill-color);\n",
              "      border-right-color: var(--fill-color);\n",
              "    }\n",
              "    40% {\n",
              "      border-color: transparent;\n",
              "      border-right-color: var(--fill-color);\n",
              "      border-top-color: var(--fill-color);\n",
              "    }\n",
              "    60% {\n",
              "      border-color: transparent;\n",
              "      border-right-color: var(--fill-color);\n",
              "    }\n",
              "    80% {\n",
              "      border-color: transparent;\n",
              "      border-right-color: var(--fill-color);\n",
              "      border-bottom-color: var(--fill-color);\n",
              "    }\n",
              "    90% {\n",
              "      border-color: transparent;\n",
              "      border-bottom-color: var(--fill-color);\n",
              "    }\n",
              "  }\n",
              "</style>\n",
              "\n",
              "  <script>\n",
              "    async function quickchart(key) {\n",
              "      const quickchartButtonEl =\n",
              "        document.querySelector('#' + key + ' button');\n",
              "      quickchartButtonEl.disabled = true;  // To prevent multiple clicks.\n",
              "      quickchartButtonEl.classList.add('colab-df-spinner');\n",
              "      try {\n",
              "        const charts = await google.colab.kernel.invokeFunction(\n",
              "            'suggestCharts', [key], {});\n",
              "      } catch (error) {\n",
              "        console.error('Error during call to suggestCharts:', error);\n",
              "      }\n",
              "      quickchartButtonEl.classList.remove('colab-df-spinner');\n",
              "      quickchartButtonEl.classList.add('colab-df-quickchart-complete');\n",
              "    }\n",
              "    (() => {\n",
              "      let quickchartButtonEl =\n",
              "        document.querySelector('#df-f517c9f8-ae0d-4ee3-8ad7-821eebec616d button');\n",
              "      quickchartButtonEl.style.display =\n",
              "        google.colab.kernel.accessAllowed ? 'block' : 'none';\n",
              "    })();\n",
              "  </script>\n",
              "</div>\n",
              "\n",
              "    </div>\n",
              "  </div>\n"
            ],
            "application/vnd.google.colaboratory.intrinsic+json": {
              "type": "dataframe",
              "variable_name": "news_dataset",
              "summary": "{\n  \"name\": \"news_dataset\",\n  \"rows\": 8261,\n  \"fields\": [\n    {\n      \"column\": \"id\",\n      \"properties\": {\n        \"dtype\": \"category\",\n        \"num_unique_values\": 3731,\n        \"samples\": [\n          \" producing\",\n          \" to tie them up naked in a dog collar and take pictures of it\\u2014the commander establishes the tone of what their work entailed\",\n          \" \\u2018rebellious\\u2019 people\"\n        ],\n        \"semantic_type\": \"\",\n        \"description\": \"\"\n      }\n    },\n    {\n      \"column\": \"title\",\n      \"properties\": {\n        \"dtype\": \"category\",\n        \"num_unique_values\": 2562,\n        \"samples\": [\n          \" but it also allows for exclusion. Facebook claims advertisers are prohibited from abusing the tool\",\n          \" religion\",\n          \" Bush\"\n        ],\n        \"semantic_type\": \"\",\n        \"description\": \"\"\n      }\n    },\n    {\n      \"column\": \"author\",\n      \"properties\": {\n        \"dtype\": \"category\",\n        \"num_unique_values\": 1482,\n        \"samples\": [\n          \" represented Podesta through the fiasco. \",\n          \" 2016 - BREAKING NEWS \",\n          \" who also directs the Berkeley SETI (Search for Extraterrestrial Intelligence) Research Center at the University of California\"\n        ],\n        \"semantic_type\": \"\",\n        \"description\": \"\"\n      }\n    },\n    {\n      \"column\": \"text\",\n      \"properties\": {\n        \"dtype\": \"category\",\n        \"num_unique_values\": 777,\n        \"samples\": [\n          \" socially\",\n          \" poursuit-il. \",\n          \" makes it clear that every armed anti-Assad organization unit in those provinces [of Idlib and Aleppo] is engaged in a military structure controlled by [Al Qaeda\\u0092s] Nusra militants. All of these rebel groups fight alongside the Nusra Front and coordinate their military activities with it.\"\n        ],\n        \"semantic_type\": \"\",\n        \"description\": \"\"\n      }\n    },\n    {\n      \"column\": \"label\",\n      \"properties\": {\n        \"dtype\": \"category\",\n        \"num_unique_values\": 285,\n        \"samples\": [\n          \" It Will Be The Biggest Miracle In US Political History \",\n          \" you should be pleased about that. \",\n          \" & a trust fund kid former Republican (FL) \"\n        ],\n        \"semantic_type\": \"\",\n        \"description\": \"\"\n      }\n    }\n  ]\n}"
            }
          },
          "metadata": {},
          "execution_count": 6
        }
      ]
    },
    {
      "cell_type": "code",
      "source": [
        "news_dataset.isnull().sum()"
      ],
      "metadata": {
        "colab": {
          "base_uri": "https://localhost:8080/",
          "height": 241
        },
        "id": "K88UYpDHoXGr",
        "outputId": "94098067-a711-4ba8-c343-b2b41d1de99d"
      },
      "execution_count": null,
      "outputs": [
        {
          "output_type": "execute_result",
          "data": {
            "text/plain": [
              "id        4167\n",
              "title     5460\n",
              "author    6618\n",
              "text      7416\n",
              "label     7936\n",
              "dtype: int64"
            ],
            "text/html": [
              "<div>\n",
              "<style scoped>\n",
              "    .dataframe tbody tr th:only-of-type {\n",
              "        vertical-align: middle;\n",
              "    }\n",
              "\n",
              "    .dataframe tbody tr th {\n",
              "        vertical-align: top;\n",
              "    }\n",
              "\n",
              "    .dataframe thead th {\n",
              "        text-align: right;\n",
              "    }\n",
              "</style>\n",
              "<table border=\"1\" class=\"dataframe\">\n",
              "  <thead>\n",
              "    <tr style=\"text-align: right;\">\n",
              "      <th></th>\n",
              "      <th>0</th>\n",
              "    </tr>\n",
              "  </thead>\n",
              "  <tbody>\n",
              "    <tr>\n",
              "      <th>id</th>\n",
              "      <td>4167</td>\n",
              "    </tr>\n",
              "    <tr>\n",
              "      <th>title</th>\n",
              "      <td>5460</td>\n",
              "    </tr>\n",
              "    <tr>\n",
              "      <th>author</th>\n",
              "      <td>6618</td>\n",
              "    </tr>\n",
              "    <tr>\n",
              "      <th>text</th>\n",
              "      <td>7416</td>\n",
              "    </tr>\n",
              "    <tr>\n",
              "      <th>label</th>\n",
              "      <td>7936</td>\n",
              "    </tr>\n",
              "  </tbody>\n",
              "</table>\n",
              "</div><br><label><b>dtype:</b> int64</label>"
            ]
          },
          "metadata": {},
          "execution_count": 7
        }
      ]
    },
    {
      "cell_type": "code",
      "source": [
        "# replacing the null values with empty string\n",
        "news_dataset = news_dataset.fillna('')"
      ],
      "metadata": {
        "id": "xIZlqlS_oqoN"
      },
      "execution_count": null,
      "outputs": []
    },
    {
      "cell_type": "code",
      "source": [
        "# merging the author name and news title\n",
        "news_dataset['content'] = news_dataset['author']+' '+news_dataset['title']"
      ],
      "metadata": {
        "id": "0ACfPtqApZns"
      },
      "execution_count": null,
      "outputs": []
    },
    {
      "cell_type": "code",
      "source": [
        "print(news_dataset['content'])"
      ],
      "metadata": {
        "colab": {
          "base_uri": "https://localhost:8080/"
        },
        "id": "r6Ir4jxop2d0",
        "outputId": "3caa31bc-b115-4fa0-f8c9-5c095b2e28af"
      },
      "execution_count": null,
      "outputs": [
        {
          "output_type": "stream",
          "name": "stdout",
          "text": [
            "0                                               House Dem Aide: We Didn’t Even See Comey’s Letter Until Jason Chaffetz Tweeted It                                                                                                                                                                                                                                                                                                                     2016 Subscribe Jason Chaffetz on the stump in...\n",
            "With apologies to Keith Olbermann                there is no doubt who the Worst Person in The World is this week–FBI Director James Comey. But according to a House Democratic aide                                                                                                                                                                                                                                                                   the ranking Democrats on the relevant commit...\n",
            "As we now know                                   Comey notified the Republican chairmen and Democratic ranking members of the House Intelligence                                                                                                                                                                                                                                                                                                      Oversight Committee Chairman Jason Chaffetz s...\n",
            "— Jason Chaffetz (@jasoninthehouse) October 28   2016                                                                                                                                                                                                                                                                                                                                                                                                                                                 \n",
            "Of course                                        we now know that this was not the case . Comey was actually saying that it was reviewing the emails in light of “an unrelated case”–which we now know to be Anthony Weiner’s sexting with a teenager. But apparently such little things as facts didn’t matter to Chaffetz. The Utah Republican had already vowed to initiate a raft of investigations if Hillary wins–at least two years’ worth                                                     \n",
            "                                                                                                                                                                                                                                                                                                                                                                                                                                                                           ...                        \n",
            "Kids want to care for their parents by nature    but they cant do it alone. It's our job to facilitate that. So even if your ex is a terrible person in your eyes                                                                                                                                                                                                                                                                                                  whether you want to own it or not. \n",
            "So focus on the kids                             make a pact                                                                                                                                                                                                                                                                                                                                                                                                                                          \n",
            "As Flynn says on Facebook                        if others in a similar situations aren't modeling “good relationship behavior                                                                                                                                                                                                                                                                                                                                                                        \n",
            "Some may say it's impossible                     but Flynn couldn't disagree more. He tells Independent Journal Review that while establishing a mutual understanding with his ex-wife was hard                                                                                                                                                                                                                                                                                    you can do it too. \n",
            "By being able to rise above all the drama        co-parenting will turn into “raising good men and strong women                                                                                                                                                                                                                                                                                                                                          1  is something we need now more than ever. \"\n",
            "Name: content, Length: 8261, dtype: object\n"
          ]
        }
      ]
    },
    {
      "cell_type": "code",
      "source": [
        "# separating the data and label\n",
        "x=news_dataset.drop(columns='label',axis=1)\n",
        "y=news_dataset['label']"
      ],
      "metadata": {
        "id": "jYeD9GqZqBNe"
      },
      "execution_count": null,
      "outputs": []
    },
    {
      "cell_type": "code",
      "source": [
        "print(x)\n",
        "print(y)"
      ],
      "metadata": {
        "id": "hJvZer3AqToc",
        "colab": {
          "base_uri": "https://localhost:8080/"
        },
        "outputId": "fbb593de-89ff-4fa5-de0c-ae34c5ecd28c"
      },
      "execution_count": null,
      "outputs": [
        {
          "output_type": "stream",
          "name": "stdout",
          "text": [
            "                                                                                                                                                  id  \\\n",
            "0                                              House Dem Aide: We Didn’t Even See Comey’s Lett...                                      Darrell Lucus   \n",
            "With apologies to Keith Olbermann               there is no doubt who the Worst Person in The ...   it looks like we also know who the second-wor...   \n",
            "As we now know                                  Comey notified the Republican chairmen and Dem...                                          Judiciary   \n",
            "— Jason Chaffetz (@jasoninthehouse) October 28  2016                                                                                                   \n",
            "Of course                                       we now know that this was not the case . Comey...   and possibly an entire term’s worth of them. ...   \n",
            "...                                                                                                                                              ...   \n",
            "Kids want to care for their parents by nature   but they cant do it alone. It's our job to fac...   you need to set it aside and realize your kid...   \n",
            "So focus on the kids                            make a pact                                         and I think you'll be surprised to find that ...   \n",
            "As Flynn says on Facebook                       if others in a similar situations aren't model...  ” then he suggests they wise up and be an exam...   \n",
            "Some may say it's impossible                    but Flynn couldn't disagree more. He tells Ind...    it was possible. And he knows that if he did it   \n",
            "By being able to rise above all the drama       co-parenting will turn into “raising good men ...                              ” which as Flynn says   \n",
            "\n",
            "                                                                                                                                               title  \\\n",
            "0                                              House Dem Aide: We Didn’t Even See Comey’s Lett...  \"House Dem Aide: We Didn’t Even See Comey’s Le...   \n",
            "With apologies to Keith Olbermann               there is no doubt who the Worst Person in The ...   the ranking Democrats on the relevant committ...   \n",
            "As we now know                                  Comey notified the Republican chairmen and Dem...   and Oversight committees that his agency was ...   \n",
            "— Jason Chaffetz (@jasoninthehouse) October 28  2016                                                                                                   \n",
            "Of course                                       we now know that this was not the case . Comey...                                                      \n",
            "...                                                                                                                                              ...   \n",
            "Kids want to care for their parents by nature   but they cant do it alone. It's our job to fac...                whether you want to own it or not.    \n",
            "So focus on the kids                            make a pact                                                                                            \n",
            "As Flynn says on Facebook                       if others in a similar situations aren't model...                                                      \n",
            "Some may say it's impossible                    but Flynn couldn't disagree more. He tells Ind...                                you can do it too.    \n",
            "By being able to rise above all the drama       co-parenting will turn into “raising good men ...         is something we need now more than ever. \"   \n",
            "\n",
            "                                                                                                                                              author  \\\n",
            "0                                              House Dem Aide: We Didn’t Even See Comey’s Lett...   2016 Subscribe Jason Chaffetz on the stump in...   \n",
            "With apologies to Keith Olbermann               there is no doubt who the Worst Person in The ...                                                      \n",
            "As we now know                                  Comey notified the Republican chairmen and Dem...   Oversight Committee Chairman Jason Chaffetz s...   \n",
            "— Jason Chaffetz (@jasoninthehouse) October 28  2016                                                                                                   \n",
            "Of course                                       we now know that this was not the case . Comey...                                                      \n",
            "...                                                                                                                                              ...   \n",
            "Kids want to care for their parents by nature   but they cant do it alone. It's our job to fac...                                                      \n",
            "So focus on the kids                            make a pact                                                                                            \n",
            "As Flynn says on Facebook                       if others in a similar situations aren't model...                                                      \n",
            "Some may say it's impossible                    but Flynn couldn't disagree more. He tells Ind...                                                      \n",
            "By being able to rise above all the drama       co-parenting will turn into “raising good men ...                                                  1   \n",
            "\n",
            "                                                                                                                                                text  \\\n",
            "0                                              House Dem Aide: We Didn’t Even See Comey’s Lett...               Utah ( image courtesy Michael Jolley   \n",
            "With apologies to Keith Olbermann               there is no doubt who the Worst Person in The ...                                                      \n",
            "As we now know                                  Comey notified the Republican chairmen and Dem...   \"\"The FBI has learned of the existence of ema...   \n",
            "— Jason Chaffetz (@jasoninthehouse) October 28  2016                                                                                                   \n",
            "Of course                                       we now know that this was not the case . Comey...                                                      \n",
            "...                                                                                                                                              ...   \n",
            "Kids want to care for their parents by nature   but they cant do it alone. It's our job to fac...                                                      \n",
            "So focus on the kids                            make a pact                                                                                            \n",
            "As Flynn says on Facebook                       if others in a similar situations aren't model...                                                      \n",
            "Some may say it's impossible                    but Flynn couldn't disagree more. He tells Ind...                                                      \n",
            "By being able to rise above all the drama       co-parenting will turn into “raising good men ...                                                      \n",
            "\n",
            "                                                                                                                                             content  \n",
            "0                                              House Dem Aide: We Didn’t Even See Comey’s Lett...   2016 Subscribe Jason Chaffetz on the stump in...  \n",
            "With apologies to Keith Olbermann               there is no doubt who the Worst Person in The ...    the ranking Democrats on the relevant commit...  \n",
            "As we now know                                  Comey notified the Republican chairmen and Dem...   Oversight Committee Chairman Jason Chaffetz s...  \n",
            "— Jason Chaffetz (@jasoninthehouse) October 28  2016                                                                                                  \n",
            "Of course                                       we now know that this was not the case . Comey...                                                     \n",
            "...                                                                                                                                              ...  \n",
            "Kids want to care for their parents by nature   but they cant do it alone. It's our job to fac...                whether you want to own it or not.   \n",
            "So focus on the kids                            make a pact                                                                                           \n",
            "As Flynn says on Facebook                       if others in a similar situations aren't model...                                                     \n",
            "Some may say it's impossible                    but Flynn couldn't disagree more. He tells Ind...                                you can do it too.   \n",
            "By being able to rise above all the drama       co-parenting will turn into “raising good men ...      1  is something we need now more than ever. \"  \n",
            "\n",
            "[8261 rows x 5 columns]\n",
            "0                                               House Dem Aide: We Didn’t Even See Comey’s Letter Until Jason Chaffetz Tweeted It                                                                                                                                                                                                                                                                                                                     available under a Creative Commons-BY license) \n",
            "With apologies to Keith Olbermann                there is no doubt who the Worst Person in The World is this week–FBI Director James Comey. But according to a House Democratic aide                                                                                                                                                                                                                                                                                                                 \n",
            "As we now know                                   Comey notified the Republican chairmen and Democratic ranking members of the House Intelligence                                                                                                                                                                                                                                                                                                                                                     \n",
            "— Jason Chaffetz (@jasoninthehouse) October 28   2016                                                                                                                                                                                                                                                                                                                                                                                                                                                \n",
            "Of course                                        we now know that this was not the case . Comey was actually saying that it was reviewing the emails in light of “an unrelated case”–which we now know to be Anthony Weiner’s sexting with a teenager. But apparently such little things as facts didn’t matter to Chaffetz. The Utah Republican had already vowed to initiate a raft of investigations if Hillary wins–at least two years’ worth                                                    \n",
            "                                                                                                                                                                                                                                                                                                                                                                                                                                                                           ...                       \n",
            "Kids want to care for their parents by nature    but they cant do it alone. It's our job to facilitate that. So even if your ex is a terrible person in your eyes                                                                                                                                                                                                                                                                                                                                    \n",
            "So focus on the kids                             make a pact                                                                                                                                                                                                                                                                                                                                                                                                                                         \n",
            "As Flynn says on Facebook                        if others in a similar situations aren't modeling “good relationship behavior                                                                                                                                                                                                                                                                                                                                                                       \n",
            "Some may say it's impossible                     but Flynn couldn't disagree more. He tells Independent Journal Review that while establishing a mutual understanding with his ex-wife was hard                                                                                                                                                                                                                                                                                                      \n",
            "By being able to rise above all the drama        co-parenting will turn into “raising good men and strong women                                                                                                                                                                                                                                                                                                                                                                                      \n",
            "Name: label, Length: 8261, dtype: object\n"
          ]
        }
      ]
    },
    {
      "cell_type": "code",
      "source": [
        "port_stem=PorterStemmer()"
      ],
      "metadata": {
        "id": "nrHP17X57i24"
      },
      "execution_count": null,
      "outputs": []
    },
    {
      "cell_type": "code",
      "source": [
        "def stemming(content):\n",
        "  stemmed_content=re.sub('[^a-zA-Z]',' ',content)\n",
        "  stemmed_content=stemmed_content.lower()\n",
        "  stemmed_content=stemmed_content.split()\n",
        "  stemmed_content=[port_stem.stem(word) for word in stemmed_content if not word in stopwords.words('english')]\n",
        "  stemmed_content=' '.join(stemmed_content)\n",
        "  return stemmed_content\n"
      ],
      "metadata": {
        "id": "Z0kewJAH8v09"
      },
      "execution_count": null,
      "outputs": []
    },
    {
      "cell_type": "code",
      "source": [
        "news_dataset['content']=news_dataset['content'].apply(stemming)\n"
      ],
      "metadata": {
        "id": "u7wHyupviO7Y"
      },
      "execution_count": null,
      "outputs": []
    },
    {
      "cell_type": "code",
      "source": [
        "print(news_dataset['content'])"
      ],
      "metadata": {
        "colab": {
          "base_uri": "https://localhost:8080/"
        },
        "id": "u4sL73WMfMEF",
        "outputId": "40665759-1094-4271-b23d-ecabe95baab8"
      },
      "execution_count": null,
      "outputs": [
        {
          "output_type": "stream",
          "name": "stdout",
          "text": [
            "0                                               House Dem Aide: We Didn’t Even See Comey’s Letter Until Jason Chaffetz Tweeted It                                                                                                                                                                                                                                                                                                                    subscrib jason chaffetz stump american fork ho...\n",
            "With apologies to Keith Olbermann                there is no doubt who the Worst Person in The World is this week–FBI Director James Comey. But according to a House Democratic aide                                                                                                                                                                                                                                                                 rank democrat relev committe hear comey found ...\n",
            "As we now know                                   Comey notified the Republican chairmen and Democratic ranking members of the House Intelligence                                                                                                                                                                                                                                                                                                     oversight committe chairman jason chaffetz set...\n",
            "— Jason Chaffetz (@jasoninthehouse) October 28   2016                                                                                                                                                                                                                                                                                                                                                                                                                                                 \n",
            "Of course                                        we now know that this was not the case . Comey was actually saying that it was reviewing the emails in light of “an unrelated case”–which we now know to be Anthony Weiner’s sexting with a teenager. But apparently such little things as facts didn’t matter to Chaffetz. The Utah Republican had already vowed to initiate a raft of investigations if Hillary wins–at least two years’ worth                                                     \n",
            "                                                                                                                                                                                                                                                                                                                                                                                                                                                                           ...                        \n",
            "Kids want to care for their parents by nature    but they cant do it alone. It's our job to facilitate that. So even if your ex is a terrible person in your eyes                                                                                                                                                                                                                                                                                                                         whether want\n",
            "So focus on the kids                             make a pact                                                                                                                                                                                                                                                                                                                                                                                                                                          \n",
            "As Flynn says on Facebook                        if others in a similar situations aren't modeling “good relationship behavior                                                                                                                                                                                                                                                                                                                                                                        \n",
            "Some may say it's impossible                     but Flynn couldn't disagree more. He tells Independent Journal Review that while establishing a mutual understanding with his ex-wife was hard                                                                                                                                                                                                                                                                                                       \n",
            "By being able to rise above all the drama        co-parenting will turn into “raising good men and strong women                                                                                                                                                                                                                                                                                                                                                                       someth need ever\n",
            "Name: content, Length: 8261, dtype: object\n"
          ]
        }
      ]
    },
    {
      "cell_type": "code",
      "source": [
        "X=news_dataset['content'].values\n",
        "Y=news_dataset['label'].values"
      ],
      "metadata": {
        "id": "V0tuwbK-flDQ"
      },
      "execution_count": null,
      "outputs": []
    },
    {
      "cell_type": "code",
      "source": [
        "print(X)\n"
      ],
      "metadata": {
        "colab": {
          "base_uri": "https://localhost:8080/"
        },
        "id": "gnF4A4mLf6-9",
        "outputId": "07ba144b-06eb-4db5-bcbe-d25c4e5920f1"
      },
      "execution_count": null,
      "outputs": [
        {
          "output_type": "stream",
          "name": "stdout",
          "text": [
            "['subscrib jason chaffetz stump american fork hous dem aid even see comey letter jason chaffetz tweet darrel lucu octob'\n",
            " 'rank democrat relev committe hear comey found via tweet one republican committe chairmen'\n",
            " 'oversight committe chairman jason chaffetz set polit world ablaz tweet fbi dir inform oversight committe agenc review email recent discov order see contain classifi inform long letter went'\n",
            " ... '' '' 'someth need ever']\n"
          ]
        }
      ]
    },
    {
      "cell_type": "code",
      "source": [
        "print(Y)"
      ],
      "metadata": {
        "colab": {
          "base_uri": "https://localhost:8080/"
        },
        "id": "muj5WZgUgDju",
        "outputId": "e810389e-33c7-4e6e-f993-a78204447927"
      },
      "execution_count": null,
      "outputs": [
        {
          "output_type": "stream",
          "name": "stdout",
          "text": [
            "[' available under a Creative Commons-BY license) ' '' '' ... '' '' '']\n"
          ]
        }
      ]
    },
    {
      "cell_type": "code",
      "source": [
        "Y.shape"
      ],
      "metadata": {
        "colab": {
          "base_uri": "https://localhost:8080/"
        },
        "id": "ReiNgYxIgJYn",
        "outputId": "3264866d-71b9-4fa2-a477-8c463264577f"
      },
      "execution_count": null,
      "outputs": [
        {
          "output_type": "execute_result",
          "data": {
            "text/plain": [
              "(8261,)"
            ]
          },
          "metadata": {},
          "execution_count": 24
        }
      ]
    },
    {
      "cell_type": "code",
      "source": [
        "vectorizer=TfidfVectorizer()\n",
        "vectorizer.fit(X)\n",
        "X=vectorizer.transform(X)"
      ],
      "metadata": {
        "id": "T8mAm06KgfZP"
      },
      "execution_count": null,
      "outputs": []
    },
    {
      "cell_type": "code",
      "source": [
        "print(X)"
      ],
      "metadata": {
        "colab": {
          "base_uri": "https://localhost:8080/"
        },
        "id": "0T9NKJoHg03y",
        "outputId": "a1273cb2-a736-488b-bfb0-656ea6dc5795"
      },
      "execution_count": null,
      "outputs": [
        {
          "output_type": "stream",
          "name": "stdout",
          "text": [
            "  (0, 144)\t0.20343753160484926\n",
            "  (0, 217)\t0.15581932461667572\n",
            "  (0, 964)\t0.4359816780408594\n",
            "  (0, 1160)\t0.20127631881484984\n",
            "  (0, 1492)\t0.23310088256498993\n",
            "  (0, 1582)\t0.2518163732763751\n",
            "  (0, 2091)\t0.149033647663725\n",
            "  (0, 2390)\t0.2518163732763751\n",
            "  (0, 2890)\t0.1778116489583359\n",
            "  (0, 3202)\t0.4115738073249634\n",
            "  (0, 3473)\t0.20836034958400634\n",
            "  (0, 3581)\t0.23310088256498993\n",
            "  (0, 4190)\t0.15740806199095583\n",
            "  (0, 5354)\t0.16184436688627407\n",
            "  (0, 5834)\t0.24086851302761964\n",
            "  (0, 5850)\t0.23310088256498993\n",
            "  (0, 6290)\t0.1956699011422195\n",
            "  (1, 968)\t0.32504626734257513\n",
            "  (1, 1160)\t0.25980882531183297\n",
            "  (1, 1171)\t0.5051440473869784\n",
            "  (1, 1588)\t0.22242448947158638\n",
            "  (1, 2412)\t0.2295204717308101\n",
            "  (1, 2777)\t0.28138404034871595\n",
            "  (1, 4223)\t0.17480308912700843\n",
            "  (1, 4894)\t0.27673010490985117\n",
            "  :\t:\n",
            "  (8237, 3962)\t0.26413259322350546\n",
            "  (8237, 4175)\t0.1440475643896338\n",
            "  (8237, 4189)\t0.13915010006690862\n",
            "  (8237, 4577)\t0.14064423001605053\n",
            "  (8237, 4684)\t0.1364788853810804\n",
            "  (8237, 5461)\t0.48345495375102193\n",
            "  (8237, 6080)\t0.2705483335977343\n",
            "  (8237, 6124)\t0.1422684417407029\n",
            "  (8237, 6288)\t0.1482129090246039\n",
            "  (8237, 6809)\t0.1740903934760774\n",
            "  (8242, 5278)\t0.5713915636047141\n",
            "  (8242, 5437)\t0.40547783341751203\n",
            "  (8242, 6296)\t0.42733018696291547\n",
            "  (8242, 6455)\t0.5713915636047141\n",
            "  (8243, 882)\t0.6864963754422303\n",
            "  (8243, 2562)\t0.7271332247289215\n",
            "  (8252, 3322)\t0.6479751885562954\n",
            "  (8252, 5100)\t0.5122022923769088\n",
            "  (8252, 6686)\t0.563717098107972\n",
            "  (8255, 2075)\t1.0\n",
            "  (8256, 6587)\t0.655672363049898\n",
            "  (8256, 6652)\t0.7550455299732346\n",
            "  (8260, 2095)\t0.6122675764761838\n",
            "  (8260, 4027)\t0.5306666462939443\n",
            "  (8260, 5625)\t0.5861069231011679\n"
          ]
        }
      ]
    },
    {
      "cell_type": "code",
      "source": [
        "# Assuming Y has binary labels (0 and 1)\n",
        "# Get the counts of each class in Y\n",
        "unique_classes, class_counts = np.unique(Y, return_counts=True)\n",
        "\n",
        "# Print the class counts to identify the problematic class\n",
        "print(\"Class Counts:\", dict(zip(unique_classes, class_counts)))\n",
        "\n",
        "# Check if any class has less than 2 samples\n",
        "if any(count < 2 for count in class_counts):\n",
        "    # Handle the issue:\n",
        "    # 1. Gather more data for the under-represented class(es).\n",
        "    # 2. Consider removing the 'stratify' parameter from train_test_split.\n",
        "    # 3. If using 'stratify' is important, adjust the 'test_size' to ensure\n",
        "    #    at least 2 samples are present for each class in both training and testing sets.\n",
        "    print(\"Warning: One or more classes have less than 2 samples. Stratified splitting might not be possible.\")\n",
        "    # Here, we choose to remove the 'stratify' parameter as an example:\n",
        "    X_train, X_test, Y_train, Y_test = train_test_split(X, Y, test_size=0.2, random_state=2)\n",
        "else:\n",
        "    # Proceed with stratified split if all classes have enough samples\n",
        "    X_train, X_test, Y_"
      ],
      "metadata": {
        "colab": {
          "base_uri": "https://localhost:8080/"
        },
        "id": "u6t5XMzchSNP",
        "outputId": "9f83791c-17dd-45a6-c8fe-53046e041a36"
      },
      "execution_count": null,
      "outputs": [
        {
          "output_type": "stream",
          "name": "stdout",
          "text": [
            "Class Counts: {'': 7936, ' & a trust fund kid former Republican (FL) ': 1, ' 127 people were detained in the biggest mass arrest to date.': 1, ' 2008. REUTERS/Ali Jarekji/File Photo ': 1, ' 2011 ( David Shankbone / CC BY 3.0 ) Michael Moore’s “Trumpland” is a textbook illustration of how the mindset of voting for “the lesser evil” just results in self-delusion—and ever more evil. ': 1, ' 2016 ': 8, ' 2016 / POLITICS / A focus group of 23 people put together by CBS News revealed a frightening look at what America has become – a divided nation. ': 1, ' 2016 8:53 AM EST ': 1, ' 2016 Tweet ': 1, ' 2016 Universal Child Hosted by Joanna L Ross KCOR Digital Radio Network Season 1 Episode 24 ': 1, ' 2016 at 6:09 pm ': 1, ' 2016 by Robert Rich in Politics Share This ': 1, ' 2016. ': 1, ' 33 and 32 percent. ': 1, ' 5+1 talks have begun already for an agreement on trade and economic cooperation between all participants in the process. ': 1, ' 700 light years from Earth. ': 1, ' Afghanistan. (Najim Rahim / AP) ': 1, ' American forces went to war with the Taliban. He was captured on November 25 after his unit surrendered in Kunduz. ': 1, ' Barack Obama deplaning Air Force One (right) ': 1, ' Buriticá has the potential to approximately double the legal production of gold in Colombia and become the largest single gold mine in the country. ': 1, ' Cina e Arabia Saudita domano l’egemonia del dollaro di Ariel Noyola Rodríguez ': 1, ' Commander in Chief Donald Trump. ': 1, ' Curacao and all the other island nations across the Caribbean. ': 1, ' David *Subject:* Hi again from AP (inquiry about thumb drive) ': 1, ' Donald Trump and Hillary Clinton partied the night away at a Jesuit function that included such prominent Jesuit-trained attendees as Henry Kissinger.': 1, ' Fla. ': 1, ' Gallup reported Singaporeans’ confidence in the government and judicial system among the highest in the world. ': 1, ' Gavin. -JA pic.twitter.com/7zyzs1Qxxk ': 1, ' It Will Be The Biggest Miracle In US Political History ': 1, ' Jr . ': 1, ' KWN II King World News ': 1, ' Katehon -  ': 1, ' LGBT Americans and Asian Americans. ': 1, ' Marcus Mumford. ': 1, ' Michael. ': 1, ' Morris writes. ': 1, ' October 28th. You need to login to view this content. ': 1, ' President Obama won all of those states in 2012. Obama also won roughly 2.6 million more votes than Hillary Clinton won in 2016. Donald Trump’s narrow margin of victory in the Electoral College was only possible by winning all of the aforementioned rust belt states . ': 1, ' Putin was his designated successor at a time when Russia was in a shambles. ': 1, ' RBTH Daily Bella Devyatkina Source: Rossia One TV Channel ': 1, ' Reagan suggested we should “open the border both ways.” ': 1, ' Rebel Without A Clue Beau Albrecht ': 1, ' Regeneration leader Benedikt Jóhanesson has said he wouldn´t consider a coalition with the governing parties. Thus that particular scenario is doubted. ': 1, ' Russia and a number of Asian countries in the last years of the 20th century. ': 1, ' SIFMA ': 1, ' Slovenia and Spain shamefully supported the vile resolution. ': 1, ' South Korea and Australia which have treaty ties to the US and consider themselves to be under the protection of the “US nuclear umbrella”. ': 1, ' St. Philip Neri and St. Ignatius Loyola. ': 1, ' The Des Moines Register) ': 1, ' The New York Times noted that the Podesta Group provided the newspaper with a Saudi commentator who defended the execution.” ': 1, ' Trump is an unmitigated disaster. What Does a Trump Victory Mean for Africa? by Patrick Bond ': 1, ' Trump said something that has turned out to be both profound and prophetic. ': 1, ' Trump’s anti-“free trade” stance and opposition to regime change and military confrontation with Russia and China drove most of the Republican-allied section of the ruling class straight into Hillary Clinton’s imperial Big Tent. ': 1, ' United States By Andrew KORYBKO (USA) ': 1, ' Vladimir Putin just made a speech that is unlikely to appear in any mainstream media. Share on Facebook ': 1, ' a functioning factory there.” ': 1, ' a mistake’ explained the Pentagon. ': 1, ' a nation that could benefit immensely from female influence at the helm.': 1, ' a weekly newspaper with a conservative bent. ': 1, ' according to Daniel Horowitz at Conservative Review. ': 1, ' against Syria and Russia.” ': 1, ' all the region is known for. ': 1, ' allied itself with Al Qaeda terrorists.': 1, ' always interrupting his enemy when they are making a mistake. Not so this week (though there are 5 days to go). Kellyanne Conway must have gotten Trump’s attention somehow. Or Ivanka. ': 1, ' and I’ll give you everything. ': 1, ' and New Zealand have already been SHARING “signals-intelligence” information – or electronic “eavesdropping” information – with each other and with Uncle Sam; through the ECHELON electronic eavesdropping network; which was set up back in 1964. ': 1, ' and a “we know better” attitude. ': 1, ' and are one of the fastest-growing groups in federal prisons. ': 1, ' and attribute it all to \\x93evil\\x94 Russian hacking when the real source for the leaks might have come straight from the belly of the (Washington) beast.': 1, ' and brain swelling ': 1, ' and cannot unlearn what they now know. ': 1, ' and chief of the DRS-run AQIM training camp at Tamouret.': 1, ' and discarded by the Clintons when they became inconvenient. ': 1, ' and drown out alternate messages. ': 1, ' and effectively took control of the Trump campaign when Breitbart chairman Stephen Bannon became campaign CEO. ': 1, ' and five-year-long disastrous war in Iraq had made the nation crappy enough to rise above 300 years of racial prejudice and make lasting change. ': 1, ' and he cites it as an example of a place where Arabs “were ordered or encouraged by their leaders to flee”—as opposed to them being expelled by the Zionist forces. ': 1, ' and jailing them at will rather than granting them the rights afforded to Israeli citizens. ': 1, ' and many others are suffering from terrorism and separatist terrorism.”What’s your comment on that? Do you think it’s a reasonable statement? ': 1, ' and misdemeanor marijuana possession.': 1, ' and most ethical members of the legal profession to practice law as we would want them to. ': 1, ' and not for all. But far from everyone was ready to agree with this.': 1, ' and not for all. But far from everyone was ready to agree with this. ': 1, ' and not for all. But far from everyone was ready to agree with this.” ': 1, ' and nothing has been decided yet. ': 1, ' and now we have the first case of HIV that this dreadful ban has caused. ': 1, ' and political operations.” – John F Kennedy (8) ': 1, ' and politically in a way that it will take a Herculean effort to be able to put it back together again. An effort that requires drastic change: both political and institutional. ': 1, ' and put forward new initiatives and recommendations that will help us find the way to the more prosperous and sustainable future that we all badly need.': 1, ' and put forward new initiatives and recommendations that will help us find the way to the more prosperous and sustainable future that we all badly need. ': 1, ' and radio. Appointment to the BBG is like being awarded an ambassador position for the media industry. It’s also why big media carries the same line or themes. ': 1, ' and resolved criminal cases against more than 65 companies with penalties and forfeiture of approximately $4.5 billion. ': 1, ' and security in Europe would be jeopardised in a big way. ': 1, ' and set up an extensive system of verification and compliance. ': 1, ' and start voting Republican. The political apple doesn’t fall far from the tree: son Jeb ended his presidential ambitions by calling illegal immigration an “act of love.” ': 1, ' and the BA kept finding more and more crucial functionality that would be required if anyone was going to be interested in purchasing the thing. The general feeling of the project team matched the immortal words of Sonic the Hedgehog: \"\"We\\'re not going to make it. Let\\'s speed up!\"\" ': 1, ' and the Little Mermaid were all products of Katzenberg’s leadership. ': 2, ' and the absolute prostrate worship of money are the major symptoms. Sen. Bernie Sanders and former Secretary of State Hillary Clinton at a Democratic presidential debate sponsored by CNN. ': 1, ' and the housing problem was handed over to the private sector.” ': 1, ' and the judges might request additional information before authorizing an investigation. ': 1, ' and the manufacturing sector still contributes to over 40 percent of its GDP. It is still in the middle of a rapid urbanization process. It is not yet a welfare state. Chinese people are fully aware of the fact that their safety net is the result of their own frugality rather than government promises. China has the biggest potential market of 1.3 billion people with a rising middle-class that is still increasing in numbers and share in population. Serving them well is one of the biggest business opportunities in the 21st century. ': 1, ' and the public’s frayed loyalty to the existing system could snap. ': 1, ' and their combined destabilization potential explains why they’re both categorized together as part of the Failed State Belt. ': 1, ' and there were no bruises on the baby. Laura says there were: ': 1, ' and there’s nothing he can do about it.” ': 1, ' and they don’t want them to breed anymore? ” ': 1, ' and they have a really bad surprise for Hillary. Rapper “Freenauts” wears “Hillary for Prison” t-shirt while performing rap song “Justice For Danney Williams” ': 1, ' and three Israeli Prime Ministers…â€\\x9d': 1, ' and to our advantage. There will certainly be considerable changes in the demographic composition of the country. [86] ': 1, ' and traffic and planted bombs and mines along urban and rural paths and roads.” He describes “several days of sniping and Haganah responses in kind”—a typical example of how he characterizes the Haganah’s violence as occurring in self-defense or as retaliation for earlier Arab attacks he identifies as having initiated any given round of fighting. [63] ': 1, ' and which he documents extensively in his own writings—was not a crime. ': 1, ' and which horses are being traded? ': 1, ' and you accepted it. ': 1, ' are adding fuel (literally) to the fire of cancer. ': 1, ' are backing her — and the TPP. ': 2, ' are constantly being distorted and we often see what only yesterday was taken as a truth and raised to dogma status reversed completely.': 1, ' are constantly being distorted and we often see what only yesterday was taken as a truth and raised to dogma status reversed completely. ': 1, ' as Clinton lost Michigan by roughly half that number. ': 1, ' as is the MPAA’s political foundation. ': 2, ' as they know they are above the laws for mere mortal humans. Linda Brown ': 1, ' at Press TV’s ‘The Debate’ show on Monday night. ': 1, ' available under a Creative Commons-BY license) ': 1, ' being able to buy millions-of-dollars of his company’s stocks prior to the public being told his JP Morgan bank was receiving a Federal Reserve $80 billion credit line—and that caused JP Morgan’s stocks to soar and that have had an astonishing 920% dividend growth since 2010. ': 1, ' believing she were the other one of the students. However others said he clearly meant to hit the woman. ': 1, ' beneath a portrait of Theodor Herzl ( Rudi Weissenstein ) ': 1, ' black sea fleet ': 1, ' bright red or hot pink flowers.': 1, ' but a Jewish predominance as soon as the numbers of that race are sufficiently increased.” [27] ': 1, ' but in the context of the inflation-depreciation spiral it certainly did. So inflation rose even faster. ': 1, ' but it does get the point across in no uncertain terms. ': 1, ' but it is the perfect example of the mental illness. ': 1, ' but nothing’s really changed.” ': 1, ' but the other nationalities which are now under Turkish rule should be assured an undoubted security of life and absolutely unmolested opportunity of autonomous development.” [39] ': 1, ' but there is no global result and the terrorist threat continues to grow.': 1, ' but there is no global result and the terrorist threat continues to grow. ': 1, ' by the end of 2016. ': 1, ' c. 1925 (from the G. Eric and Edith Matson Photograph Collection at the Library of Congress ) The Zionist Mandate for Palestine ': 1, ' close to the ministers’ meeting.” ': 1, ' continue to advocate to governments around the world about the pressing need for strong pro-IP trade policies such as TPP and the proposed EU/US trade agreement (TTIP). ” ': 2, ' critical cultural and economic center of Aleppo – scourging the Christians and non-jihadi Muslims and other ancient minorities. Over two million Syrians have died or fled the fiery scourge of Anglo-American and Saudi-Turkish terror. ': 1, ' do something about it ': 1, ' doesn’t it?': 1, ' en su oportunidad.': 1, ' even if only metaphorically.': 1, ' even in foreign nations.': 1, ' except that a handful (where noted) may be Arab American but of uncertain religion (esp. Christian). ': 1, ' far more serious systemic problems. ': 1, ' feminism). ': 1, ' giving them the seven days they asked for. ': 1, ' guidano la costruzione del sistema monetario multipolare. ': 1, ' has reportedly been advising its scientific experts not to publish internal research data on its 2015 report on “probably carcinogenic” glyphosate. ': 1, ' have some type of brittle bone or other medical condition. ': 1, ' he is deprived for ever from employment on that land.” [46] ': 1, ' he only cried when his diaper was being changed or when he had gas. ': 1, ' he should be do everything else for himself. ': 1, ' her word isn’t all the accuser was armed with . Stock image of Michael Jackson’s “Neverland” ranch ': 1, ' hoping to wait it out until the protestors give up. ': 1, ' hoy preso!': 1, ' human rights activists and civic leaders have been killed. The notorious narco-President Alvaro Uribe and his Vice President Santos worked with the death squads and the Colombian military under the instruction of over one thousand US military advisers and contract mercenaries as they imposed a scorched earth policy – to consolidate a ‘reign of Western values’. ': 1, ' if I had my way I wouldn’t bring Putin and Russia up at all. ': 1, ' if not less. ': 1, ' if there is any.': 1, ' if there is any. ': 1, ' il Presidente Vladimir Putin ha costruito con l’omologo Xi Jinping una potente alleanza finanziaria che cerca di porre fine una volta per tutte al dominio della moneta statunitense. ': 1, ' in Urbandale. ': 1, ' in a nod to the sixteen elements discovered at Berkeley Lab and UC Berkeley. ': 1, ' in her home.': 1, ' indicating a 170-person increase compared to 2015. ': 1, ' is a given. ': 1, ' is believed to have occurred. A storm of this magnitude today would cause widespread damage to the electric grid of unprecedented proportions.”': 1, ' is one of the seven companies named in the initial investigation. –Daily Signal/Heritage Foundation ': 1, ' is that true? Or did it just slow it down? What will a Trump presidency mean in that sense?” ': 1, ' is the complete lack of any real evidence to support the idea that it causes cardiovascular disease. ': 1, ' is there anyone more inspiring than Michelle Obama?” —Hillary ': 1, ' is with the thought and never with the person. To understand that is to unburden yourself from being bitter and revengeful. 12. 10 percent of what you earn should be kept aside for dharma ': 1, ' it could conveniently include official monitoring of events in Syria & the Russian Navy in the Med. LINK ': 1, ' it is probably looking for others nations’ ‘taps’ or ASW arrays in the area. ': 1, ' it was anybody he could screw with… ': 1, ' it was the shift from sporadic attacks and counter-attacks on the Palestinian civilian population towards the systematic mega-operation of ethnic cleansing that now followed. [70] ': 1, ' its whereabouts unknown. As Politico explained : ': 1, ' just trying to take their taste for her away.” ': 1, ' la OTSC contribuye activamente a las iniciativas internacionales encaminadas a la reconstrucción del Afganistán. La OTSC contribuye activamente a los esfuerzos internacionales para la reconstrucción del Afganistán y a la lucha contra la amenaza de las drogas provenientes del territorio de ese país.': 1, ' le ha tirado un vaso de agua a la cara a Rajoy y ha fingido un desmayo. Fuentes del Congreso aseguran que Hernando ha guiñado el ojo a Rajoy en un par de ocasiones para tranquilizar al candidato a la presidencia. ': 1, ' life of servant hood (slavery) always in fear? ': 1, ' lo haremos a la segunda”. ': 1, ' los reencuentros merecen la pena no tanto por la ilusión “como por lo que se cobra”. ': 1, ' mainly due to the “Chip That Is ON Their Shoulder”…discussed later. ': 1, ' making the news back in 2012 by suing for the right to be allowed group prayer . What went wrong? ': 1, ' making them history’s most murderous ideologues. ': 1, ' moralistic mental midgets. ': 1, ' morally and responsibly to “FIT IN!” and if more and more people did that then stereotypes would change. ': 1, ' neither the fact that some Arabs were allowed to remain nor that many fled out of fear is inconsistent with the recognition of what happened as ethnic cleansing. ': 1, ' not due to any criminal activity but just because his speech is politically incorrect. Matt reminds us that the reason for this is because they have no answer to our talking points. They cannot debate us so they always seek to shut us down. ': 1, ' only to confront the US scourge of deportation. Over 2 million have been imprisoned and expelled under Obama. ': 1, ' or categorize them . . . and that definitely applied to pollsters. ': 1, ' or else an apartheid reality if Palestinian residents are deprived of the right to vote. Both spell doom for the Zionist dream.” ': 1, ' or shield undocumented aliens and could apply to officials in sanctuary cities and states.\"\" ': 1, ' or the job they worked at…. They were not satisfied with anything or anybody… ': 1, ' per coprire i deficit gemelli (commercio e bilancio); cioè per il dipartimento del Tesoro è questione di vita o di morte vendere titoli di debito nel mondo e così finanziare le spese degli USA. ': 1, ' per person. ': 1, ' preying upon young Russian girls brought to that country to perform pedophile sex acts.': 1, ' professor of Hydraulic Engineering at Virginia Tech. ': 1, ' protesters marked with numbers and kept in dog kennels after arrest… ': 1, ' rather than cultivating a mind state of separation. ': 1, ' said in a statement.': 1, ' said: “I think embargoes that attempt to control sourcing are dangerous because they limit the role of the reporter whose job is to do a full look at a subject. It’s really inappropriate for a source to be telling a journalist whom he or she can and can’t talk to.” ': 1, ' serves on the board. ': 2, ' shared its erroneous data on conservative opponents of the Obama administration with federal law enforcement agencies. ': 1, ' signifying nothing. ': 1, ' so they planned to take him in the following Monday to check on it. Photo courtesy of the family. ': 1, ' so we decided to implement exception handling.\"\" ': 1, ' social and economic experiences—without embracing people of every sexual orientation and gender identity—we’re leading in a complex world with one hand tied behind our back.” ': 1, ' states. ': 1, ' thank you very much.” ': 1, ' the Herero began the rebellion against German colonialism in Namibia.” [4] ': 1, ' the index stood 20 percent higher than its average during the 1990s. There is no way to explain this other than by realizing that commodities had become scarcer than in the previous decade. ': 1, ' the interest of foreigners are prioritized over the majority of people who are impoverished in Haiti.” ': 1, ' the money donated and invested was extraordinary. But nobody seems to know where it has gone. ': 1, ' the police state will transition to martial law.': 1, ' the report said.': 1, ' the sesame group dropped down to 3.5—significantly lower than the control group. ': 1, ' the visible state whose leaders we choose.\\x94': 1, ' then let me be on my way. ': 1, ' then the Jews would “have to talk to them in a different language” and might be “compelled to use force” to realize their goals. [17] ': 1, ' there are also three rookeries where cubs are not born. ': 1, ' there is ': 1, ' there’s still a strong likelihood that at least some of the investigated possibilities will eventually occur to varying extents and that the geopolitical repercussions will indisputably impact quite negatively on China and the larger multipolar world’s grand position in the New Cold War. ': 1, ' they Arab states had continuously declared their intent “to attack the Jewish state when the British left.” ': 1, ' they are getting quite a bit of very friendly publicity as a form of reaction to the rise of the Alt-Right. ': 1, ' they ordered another operation against the same village on 11 January in order to complete the expulsion. The Hagana blew up most of the houses in the village and drove out all the people who were still there. [85] ': 1, ' they said.': 1, ' they spoke proudly of what the New York Daily News characterized as a program of “supporting longterm programs to develop Haiti’s business class.” ': 1, ' this US spy agency to use his country to interrogate (actually torture) high value Islamic terror leaders.': 1, ' this was by no means a “mistake”. ': 1, ' to be civically engaged to create a better world for our communities. ': 1, ' to make an announcement his supporters characterize as a “bombshell that will rock Hillary’s campaign.” ': 1, ' turnout in the area appears to be way uglier than analysts initially predicted. ': 1, ' under FBI investigation. [Note: Some words and/or phrases appearing in quotes in this report are English language approximations of Russian words/phrases having no exact counterpart.]': 1, ' unless they are tripped up on the closely related issues of race (failure to “stand up” to the Blacks) and foreign policy (failure to “stand up” to whoever is the designated foreign enemy). ': 1, ' was about 3 weeks before Obama was elected. Muslims were chosen to be in the Obama administration weeks before his “election.” ': 1, ' was everything hit on every level and every aspect. ': 1, ' we are living in a moment when Native water protectors and water warriors have more than earned both acknowledgement and solidarity. ': 1, ' we feel the need to say a few things. ': 1, ' whatever. Gary Honeycutt ': 1, ' when the incident occurred.  ': 1, ' which enriches their days now.” They start to remember the things that made their heart sing once. 11. You don’t break ties with people; you break ties with the thought they produce ': 1, ' which is not a member of NATO but has close ties with the alliance. ': 1, ' which is what got you the attention in the first place. ': 1, ' which leads to his conspiratorial thinking. Only the naïve fail to understand they’re the victim of a con. ': 1, ' which makes me think they have professional training or friends in high places. ': 1, ' which was not done. ': 1, ' while denying it any employment in our own country. Both the process of expropriation and the removal of the poor must be carried out discreetly and circumspectly.” [11] ': 1, ' who is already deeply tied to the Clinton email cover-up Democratic Party Machine has created a distraction to cover-up latest Wikileaks dump. FBI are trying to restore lost public confidence over allegations of favoring Hillary Clintons. Create a controlled explosion this weekend to clear the decks for another salacious Trump scandal next week. ': 1, ' who is currently a top official at the US Justice Department serving as Assistant Attorney General for Legislative Affairs. ': 1, ' why not take a gamble on Trump? ': 1, ' will overtake the culture and risk destroying the very culture that makes it presently so inviting for those seeking a better life. ': 1, ' without being requested. ': 1, ' would also be over-diagnosed for a non-malignant form of cancer that never even would have become “clinically apparent.” ': 1, ' wrote on Monday. ': 1, ' y el Grupo de Acción Financiera sobre el Blanqueo de Capitales.': 1, ' you can’t discount the placebo effect. ': 1, ' you should be pleased about that. ': 1, ' your dreams will be coming true before long. ': 1, ' Германией. Поэтому от этого государства ожидать самостоятельности во внешней политике не приходится. ': 1, ' амфибий и рептилий. ': 1, ' вложенную в планшет со словами: \"\"Я ушла познавать мир\"\". ': 1, ' которые направляются к Земле со стороны Солнца. ': 1, ' сами они легко считывают информацию с лиц хозяев. ': 1, ' сообщает портал. ': 1, ' “Proud member of the American Communist Party” (video here ; forward to 6:07). No wonder the Communist Party USA is “all in” for Hillary . ': 1, ' “There will be no withdrawals” from the occupied West Bank and “no concessions” to the Palestinians. ': 1, ' “we the people” are the government.': 1, ' “when he attributed to me things I have never claimed and distorted the events of the 1948 war.” ': 1, '\"Print ': 1, '0': 1, \"000 calories a day and weigh more than 320 kilograms as she tried to satisfy boyfriend's fantasies\": 1, '000 his or her subsidy would be significantly lower. ': 1, '000 in perpetual balance with nature.” ~ Georgia Guidestones ': 1, '000 pertinent to Hillary’s case. Things aren’t looking so good for Hillary Clinton ': 1, '1': 29, '2016 ': 1, '500. The woman then used the cash for a downpayment towards a countryhouse home.': 1, '509. ': 1, '’ but Rudy Giuliani said ‘yes’ and I felt I had to accede to him. I hope you can forgive me.” ': 1, '” Mikhail argued. ': 1, '” which shows a correlation between the decline of black fatherhood and the drop in black participation in baseball. ': 1}\n",
            "Warning: One or more classes have less than 2 samples. Stratified splitting might not be possible.\n"
          ]
        }
      ]
    },
    {
      "cell_type": "code",
      "source": [
        "\n",
        "model=LogisticRegression()"
      ],
      "metadata": {
        "id": "aVQG9pOih3t-"
      },
      "execution_count": null,
      "outputs": []
    },
    {
      "cell_type": "code",
      "source": [
        "model.fit(X_train,Y_train)"
      ],
      "metadata": {
        "colab": {
          "base_uri": "https://localhost:8080/",
          "height": 80
        },
        "id": "IwDyFOCEjNUE",
        "outputId": "f1e6c14d-b8d5-41ea-f5bb-745d68b4c45b"
      },
      "execution_count": null,
      "outputs": [
        {
          "output_type": "execute_result",
          "data": {
            "text/plain": [
              "LogisticRegression()"
            ],
            "text/html": [
              "<style>#sk-container-id-1 {\n",
              "  /* Definition of color scheme common for light and dark mode */\n",
              "  --sklearn-color-text: #000;\n",
              "  --sklearn-color-text-muted: #666;\n",
              "  --sklearn-color-line: gray;\n",
              "  /* Definition of color scheme for unfitted estimators */\n",
              "  --sklearn-color-unfitted-level-0: #fff5e6;\n",
              "  --sklearn-color-unfitted-level-1: #f6e4d2;\n",
              "  --sklearn-color-unfitted-level-2: #ffe0b3;\n",
              "  --sklearn-color-unfitted-level-3: chocolate;\n",
              "  /* Definition of color scheme for fitted estimators */\n",
              "  --sklearn-color-fitted-level-0: #f0f8ff;\n",
              "  --sklearn-color-fitted-level-1: #d4ebff;\n",
              "  --sklearn-color-fitted-level-2: #b3dbfd;\n",
              "  --sklearn-color-fitted-level-3: cornflowerblue;\n",
              "\n",
              "  /* Specific color for light theme */\n",
              "  --sklearn-color-text-on-default-background: var(--sg-text-color, var(--theme-code-foreground, var(--jp-content-font-color1, black)));\n",
              "  --sklearn-color-background: var(--sg-background-color, var(--theme-background, var(--jp-layout-color0, white)));\n",
              "  --sklearn-color-border-box: var(--sg-text-color, var(--theme-code-foreground, var(--jp-content-font-color1, black)));\n",
              "  --sklearn-color-icon: #696969;\n",
              "\n",
              "  @media (prefers-color-scheme: dark) {\n",
              "    /* Redefinition of color scheme for dark theme */\n",
              "    --sklearn-color-text-on-default-background: var(--sg-text-color, var(--theme-code-foreground, var(--jp-content-font-color1, white)));\n",
              "    --sklearn-color-background: var(--sg-background-color, var(--theme-background, var(--jp-layout-color0, #111)));\n",
              "    --sklearn-color-border-box: var(--sg-text-color, var(--theme-code-foreground, var(--jp-content-font-color1, white)));\n",
              "    --sklearn-color-icon: #878787;\n",
              "  }\n",
              "}\n",
              "\n",
              "#sk-container-id-1 {\n",
              "  color: var(--sklearn-color-text);\n",
              "}\n",
              "\n",
              "#sk-container-id-1 pre {\n",
              "  padding: 0;\n",
              "}\n",
              "\n",
              "#sk-container-id-1 input.sk-hidden--visually {\n",
              "  border: 0;\n",
              "  clip: rect(1px 1px 1px 1px);\n",
              "  clip: rect(1px, 1px, 1px, 1px);\n",
              "  height: 1px;\n",
              "  margin: -1px;\n",
              "  overflow: hidden;\n",
              "  padding: 0;\n",
              "  position: absolute;\n",
              "  width: 1px;\n",
              "}\n",
              "\n",
              "#sk-container-id-1 div.sk-dashed-wrapped {\n",
              "  border: 1px dashed var(--sklearn-color-line);\n",
              "  margin: 0 0.4em 0.5em 0.4em;\n",
              "  box-sizing: border-box;\n",
              "  padding-bottom: 0.4em;\n",
              "  background-color: var(--sklearn-color-background);\n",
              "}\n",
              "\n",
              "#sk-container-id-1 div.sk-container {\n",
              "  /* jupyter's `normalize.less` sets `[hidden] { display: none; }`\n",
              "     but bootstrap.min.css set `[hidden] { display: none !important; }`\n",
              "     so we also need the `!important` here to be able to override the\n",
              "     default hidden behavior on the sphinx rendered scikit-learn.org.\n",
              "     See: https://github.com/scikit-learn/scikit-learn/issues/21755 */\n",
              "  display: inline-block !important;\n",
              "  position: relative;\n",
              "}\n",
              "\n",
              "#sk-container-id-1 div.sk-text-repr-fallback {\n",
              "  display: none;\n",
              "}\n",
              "\n",
              "div.sk-parallel-item,\n",
              "div.sk-serial,\n",
              "div.sk-item {\n",
              "  /* draw centered vertical line to link estimators */\n",
              "  background-image: linear-gradient(var(--sklearn-color-text-on-default-background), var(--sklearn-color-text-on-default-background));\n",
              "  background-size: 2px 100%;\n",
              "  background-repeat: no-repeat;\n",
              "  background-position: center center;\n",
              "}\n",
              "\n",
              "/* Parallel-specific style estimator block */\n",
              "\n",
              "#sk-container-id-1 div.sk-parallel-item::after {\n",
              "  content: \"\";\n",
              "  width: 100%;\n",
              "  border-bottom: 2px solid var(--sklearn-color-text-on-default-background);\n",
              "  flex-grow: 1;\n",
              "}\n",
              "\n",
              "#sk-container-id-1 div.sk-parallel {\n",
              "  display: flex;\n",
              "  align-items: stretch;\n",
              "  justify-content: center;\n",
              "  background-color: var(--sklearn-color-background);\n",
              "  position: relative;\n",
              "}\n",
              "\n",
              "#sk-container-id-1 div.sk-parallel-item {\n",
              "  display: flex;\n",
              "  flex-direction: column;\n",
              "}\n",
              "\n",
              "#sk-container-id-1 div.sk-parallel-item:first-child::after {\n",
              "  align-self: flex-end;\n",
              "  width: 50%;\n",
              "}\n",
              "\n",
              "#sk-container-id-1 div.sk-parallel-item:last-child::after {\n",
              "  align-self: flex-start;\n",
              "  width: 50%;\n",
              "}\n",
              "\n",
              "#sk-container-id-1 div.sk-parallel-item:only-child::after {\n",
              "  width: 0;\n",
              "}\n",
              "\n",
              "/* Serial-specific style estimator block */\n",
              "\n",
              "#sk-container-id-1 div.sk-serial {\n",
              "  display: flex;\n",
              "  flex-direction: column;\n",
              "  align-items: center;\n",
              "  background-color: var(--sklearn-color-background);\n",
              "  padding-right: 1em;\n",
              "  padding-left: 1em;\n",
              "}\n",
              "\n",
              "\n",
              "/* Toggleable style: style used for estimator/Pipeline/ColumnTransformer box that is\n",
              "clickable and can be expanded/collapsed.\n",
              "- Pipeline and ColumnTransformer use this feature and define the default style\n",
              "- Estimators will overwrite some part of the style using the `sk-estimator` class\n",
              "*/\n",
              "\n",
              "/* Pipeline and ColumnTransformer style (default) */\n",
              "\n",
              "#sk-container-id-1 div.sk-toggleable {\n",
              "  /* Default theme specific background. It is overwritten whether we have a\n",
              "  specific estimator or a Pipeline/ColumnTransformer */\n",
              "  background-color: var(--sklearn-color-background);\n",
              "}\n",
              "\n",
              "/* Toggleable label */\n",
              "#sk-container-id-1 label.sk-toggleable__label {\n",
              "  cursor: pointer;\n",
              "  display: flex;\n",
              "  width: 100%;\n",
              "  margin-bottom: 0;\n",
              "  padding: 0.5em;\n",
              "  box-sizing: border-box;\n",
              "  text-align: center;\n",
              "  align-items: start;\n",
              "  justify-content: space-between;\n",
              "  gap: 0.5em;\n",
              "}\n",
              "\n",
              "#sk-container-id-1 label.sk-toggleable__label .caption {\n",
              "  font-size: 0.6rem;\n",
              "  font-weight: lighter;\n",
              "  color: var(--sklearn-color-text-muted);\n",
              "}\n",
              "\n",
              "#sk-container-id-1 label.sk-toggleable__label-arrow:before {\n",
              "  /* Arrow on the left of the label */\n",
              "  content: \"▸\";\n",
              "  float: left;\n",
              "  margin-right: 0.25em;\n",
              "  color: var(--sklearn-color-icon);\n",
              "}\n",
              "\n",
              "#sk-container-id-1 label.sk-toggleable__label-arrow:hover:before {\n",
              "  color: var(--sklearn-color-text);\n",
              "}\n",
              "\n",
              "/* Toggleable content - dropdown */\n",
              "\n",
              "#sk-container-id-1 div.sk-toggleable__content {\n",
              "  max-height: 0;\n",
              "  max-width: 0;\n",
              "  overflow: hidden;\n",
              "  text-align: left;\n",
              "  /* unfitted */\n",
              "  background-color: var(--sklearn-color-unfitted-level-0);\n",
              "}\n",
              "\n",
              "#sk-container-id-1 div.sk-toggleable__content.fitted {\n",
              "  /* fitted */\n",
              "  background-color: var(--sklearn-color-fitted-level-0);\n",
              "}\n",
              "\n",
              "#sk-container-id-1 div.sk-toggleable__content pre {\n",
              "  margin: 0.2em;\n",
              "  border-radius: 0.25em;\n",
              "  color: var(--sklearn-color-text);\n",
              "  /* unfitted */\n",
              "  background-color: var(--sklearn-color-unfitted-level-0);\n",
              "}\n",
              "\n",
              "#sk-container-id-1 div.sk-toggleable__content.fitted pre {\n",
              "  /* unfitted */\n",
              "  background-color: var(--sklearn-color-fitted-level-0);\n",
              "}\n",
              "\n",
              "#sk-container-id-1 input.sk-toggleable__control:checked~div.sk-toggleable__content {\n",
              "  /* Expand drop-down */\n",
              "  max-height: 200px;\n",
              "  max-width: 100%;\n",
              "  overflow: auto;\n",
              "}\n",
              "\n",
              "#sk-container-id-1 input.sk-toggleable__control:checked~label.sk-toggleable__label-arrow:before {\n",
              "  content: \"▾\";\n",
              "}\n",
              "\n",
              "/* Pipeline/ColumnTransformer-specific style */\n",
              "\n",
              "#sk-container-id-1 div.sk-label input.sk-toggleable__control:checked~label.sk-toggleable__label {\n",
              "  color: var(--sklearn-color-text);\n",
              "  background-color: var(--sklearn-color-unfitted-level-2);\n",
              "}\n",
              "\n",
              "#sk-container-id-1 div.sk-label.fitted input.sk-toggleable__control:checked~label.sk-toggleable__label {\n",
              "  background-color: var(--sklearn-color-fitted-level-2);\n",
              "}\n",
              "\n",
              "/* Estimator-specific style */\n",
              "\n",
              "/* Colorize estimator box */\n",
              "#sk-container-id-1 div.sk-estimator input.sk-toggleable__control:checked~label.sk-toggleable__label {\n",
              "  /* unfitted */\n",
              "  background-color: var(--sklearn-color-unfitted-level-2);\n",
              "}\n",
              "\n",
              "#sk-container-id-1 div.sk-estimator.fitted input.sk-toggleable__control:checked~label.sk-toggleable__label {\n",
              "  /* fitted */\n",
              "  background-color: var(--sklearn-color-fitted-level-2);\n",
              "}\n",
              "\n",
              "#sk-container-id-1 div.sk-label label.sk-toggleable__label,\n",
              "#sk-container-id-1 div.sk-label label {\n",
              "  /* The background is the default theme color */\n",
              "  color: var(--sklearn-color-text-on-default-background);\n",
              "}\n",
              "\n",
              "/* On hover, darken the color of the background */\n",
              "#sk-container-id-1 div.sk-label:hover label.sk-toggleable__label {\n",
              "  color: var(--sklearn-color-text);\n",
              "  background-color: var(--sklearn-color-unfitted-level-2);\n",
              "}\n",
              "\n",
              "/* Label box, darken color on hover, fitted */\n",
              "#sk-container-id-1 div.sk-label.fitted:hover label.sk-toggleable__label.fitted {\n",
              "  color: var(--sklearn-color-text);\n",
              "  background-color: var(--sklearn-color-fitted-level-2);\n",
              "}\n",
              "\n",
              "/* Estimator label */\n",
              "\n",
              "#sk-container-id-1 div.sk-label label {\n",
              "  font-family: monospace;\n",
              "  font-weight: bold;\n",
              "  display: inline-block;\n",
              "  line-height: 1.2em;\n",
              "}\n",
              "\n",
              "#sk-container-id-1 div.sk-label-container {\n",
              "  text-align: center;\n",
              "}\n",
              "\n",
              "/* Estimator-specific */\n",
              "#sk-container-id-1 div.sk-estimator {\n",
              "  font-family: monospace;\n",
              "  border: 1px dotted var(--sklearn-color-border-box);\n",
              "  border-radius: 0.25em;\n",
              "  box-sizing: border-box;\n",
              "  margin-bottom: 0.5em;\n",
              "  /* unfitted */\n",
              "  background-color: var(--sklearn-color-unfitted-level-0);\n",
              "}\n",
              "\n",
              "#sk-container-id-1 div.sk-estimator.fitted {\n",
              "  /* fitted */\n",
              "  background-color: var(--sklearn-color-fitted-level-0);\n",
              "}\n",
              "\n",
              "/* on hover */\n",
              "#sk-container-id-1 div.sk-estimator:hover {\n",
              "  /* unfitted */\n",
              "  background-color: var(--sklearn-color-unfitted-level-2);\n",
              "}\n",
              "\n",
              "#sk-container-id-1 div.sk-estimator.fitted:hover {\n",
              "  /* fitted */\n",
              "  background-color: var(--sklearn-color-fitted-level-2);\n",
              "}\n",
              "\n",
              "/* Specification for estimator info (e.g. \"i\" and \"?\") */\n",
              "\n",
              "/* Common style for \"i\" and \"?\" */\n",
              "\n",
              ".sk-estimator-doc-link,\n",
              "a:link.sk-estimator-doc-link,\n",
              "a:visited.sk-estimator-doc-link {\n",
              "  float: right;\n",
              "  font-size: smaller;\n",
              "  line-height: 1em;\n",
              "  font-family: monospace;\n",
              "  background-color: var(--sklearn-color-background);\n",
              "  border-radius: 1em;\n",
              "  height: 1em;\n",
              "  width: 1em;\n",
              "  text-decoration: none !important;\n",
              "  margin-left: 0.5em;\n",
              "  text-align: center;\n",
              "  /* unfitted */\n",
              "  border: var(--sklearn-color-unfitted-level-1) 1pt solid;\n",
              "  color: var(--sklearn-color-unfitted-level-1);\n",
              "}\n",
              "\n",
              ".sk-estimator-doc-link.fitted,\n",
              "a:link.sk-estimator-doc-link.fitted,\n",
              "a:visited.sk-estimator-doc-link.fitted {\n",
              "  /* fitted */\n",
              "  border: var(--sklearn-color-fitted-level-1) 1pt solid;\n",
              "  color: var(--sklearn-color-fitted-level-1);\n",
              "}\n",
              "\n",
              "/* On hover */\n",
              "div.sk-estimator:hover .sk-estimator-doc-link:hover,\n",
              ".sk-estimator-doc-link:hover,\n",
              "div.sk-label-container:hover .sk-estimator-doc-link:hover,\n",
              ".sk-estimator-doc-link:hover {\n",
              "  /* unfitted */\n",
              "  background-color: var(--sklearn-color-unfitted-level-3);\n",
              "  color: var(--sklearn-color-background);\n",
              "  text-decoration: none;\n",
              "}\n",
              "\n",
              "div.sk-estimator.fitted:hover .sk-estimator-doc-link.fitted:hover,\n",
              ".sk-estimator-doc-link.fitted:hover,\n",
              "div.sk-label-container:hover .sk-estimator-doc-link.fitted:hover,\n",
              ".sk-estimator-doc-link.fitted:hover {\n",
              "  /* fitted */\n",
              "  background-color: var(--sklearn-color-fitted-level-3);\n",
              "  color: var(--sklearn-color-background);\n",
              "  text-decoration: none;\n",
              "}\n",
              "\n",
              "/* Span, style for the box shown on hovering the info icon */\n",
              ".sk-estimator-doc-link span {\n",
              "  display: none;\n",
              "  z-index: 9999;\n",
              "  position: relative;\n",
              "  font-weight: normal;\n",
              "  right: .2ex;\n",
              "  padding: .5ex;\n",
              "  margin: .5ex;\n",
              "  width: min-content;\n",
              "  min-width: 20ex;\n",
              "  max-width: 50ex;\n",
              "  color: var(--sklearn-color-text);\n",
              "  box-shadow: 2pt 2pt 4pt #999;\n",
              "  /* unfitted */\n",
              "  background: var(--sklearn-color-unfitted-level-0);\n",
              "  border: .5pt solid var(--sklearn-color-unfitted-level-3);\n",
              "}\n",
              "\n",
              ".sk-estimator-doc-link.fitted span {\n",
              "  /* fitted */\n",
              "  background: var(--sklearn-color-fitted-level-0);\n",
              "  border: var(--sklearn-color-fitted-level-3);\n",
              "}\n",
              "\n",
              ".sk-estimator-doc-link:hover span {\n",
              "  display: block;\n",
              "}\n",
              "\n",
              "/* \"?\"-specific style due to the `<a>` HTML tag */\n",
              "\n",
              "#sk-container-id-1 a.estimator_doc_link {\n",
              "  float: right;\n",
              "  font-size: 1rem;\n",
              "  line-height: 1em;\n",
              "  font-family: monospace;\n",
              "  background-color: var(--sklearn-color-background);\n",
              "  border-radius: 1rem;\n",
              "  height: 1rem;\n",
              "  width: 1rem;\n",
              "  text-decoration: none;\n",
              "  /* unfitted */\n",
              "  color: var(--sklearn-color-unfitted-level-1);\n",
              "  border: var(--sklearn-color-unfitted-level-1) 1pt solid;\n",
              "}\n",
              "\n",
              "#sk-container-id-1 a.estimator_doc_link.fitted {\n",
              "  /* fitted */\n",
              "  border: var(--sklearn-color-fitted-level-1) 1pt solid;\n",
              "  color: var(--sklearn-color-fitted-level-1);\n",
              "}\n",
              "\n",
              "/* On hover */\n",
              "#sk-container-id-1 a.estimator_doc_link:hover {\n",
              "  /* unfitted */\n",
              "  background-color: var(--sklearn-color-unfitted-level-3);\n",
              "  color: var(--sklearn-color-background);\n",
              "  text-decoration: none;\n",
              "}\n",
              "\n",
              "#sk-container-id-1 a.estimator_doc_link.fitted:hover {\n",
              "  /* fitted */\n",
              "  background-color: var(--sklearn-color-fitted-level-3);\n",
              "}\n",
              "</style><div id=\"sk-container-id-1\" class=\"sk-top-container\"><div class=\"sk-text-repr-fallback\"><pre>LogisticRegression()</pre><b>In a Jupyter environment, please rerun this cell to show the HTML representation or trust the notebook. <br />On GitHub, the HTML representation is unable to render, please try loading this page with nbviewer.org.</b></div><div class=\"sk-container\" hidden><div class=\"sk-item\"><div class=\"sk-estimator fitted sk-toggleable\"><input class=\"sk-toggleable__control sk-hidden--visually\" id=\"sk-estimator-id-1\" type=\"checkbox\" checked><label for=\"sk-estimator-id-1\" class=\"sk-toggleable__label fitted sk-toggleable__label-arrow\"><div><div>LogisticRegression</div></div><div><a class=\"sk-estimator-doc-link fitted\" rel=\"noreferrer\" target=\"_blank\" href=\"https://scikit-learn.org/1.6/modules/generated/sklearn.linear_model.LogisticRegression.html\">?<span>Documentation for LogisticRegression</span></a><span class=\"sk-estimator-doc-link fitted\">i<span>Fitted</span></span></div></label><div class=\"sk-toggleable__content fitted\"><pre>LogisticRegression()</pre></div> </div></div></div></div>"
            ]
          },
          "metadata": {},
          "execution_count": 33
        }
      ]
    },
    {
      "cell_type": "code",
      "source": [
        "X_train_prediction=model.predict(X_train)\n",
        "training_data_accuracy=accuracy_score(X_train_prediction,Y_train)"
      ],
      "metadata": {
        "id": "YqIhxlWPjRAG"
      },
      "execution_count": null,
      "outputs": []
    },
    {
      "cell_type": "code",
      "source": [
        "print('Accuracy score of the training data:',training_data_accuracy)"
      ],
      "metadata": {
        "colab": {
          "base_uri": "https://localhost:8080/"
        },
        "id": "1r5ExOWgjhhN",
        "outputId": "c6b362ab-a19e-494d-8fd0-4fddd1979d46"
      },
      "execution_count": null,
      "outputs": [
        {
          "output_type": "stream",
          "name": "stdout",
          "text": [
            "Accuracy score of the training data: 0.9603510895883777\n"
          ]
        }
      ]
    },
    {
      "cell_type": "code",
      "source": [],
      "metadata": {
        "id": "KvqZ4fAgj071"
      },
      "execution_count": null,
      "outputs": []
    }
  ]
}